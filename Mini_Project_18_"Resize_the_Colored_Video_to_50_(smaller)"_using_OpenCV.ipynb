{
  "nbformat": 4,
  "nbformat_minor": 0,
  "metadata": {
    "colab": {
      "provenance": [],
      "authorship_tag": "ABX9TyNOLMewK3rnBf08Gg8Wb2BI",
      "include_colab_link": true
    },
    "kernelspec": {
      "name": "python3",
      "display_name": "Python 3"
    },
    "language_info": {
      "name": "python"
    }
  },
  "cells": [
    {
      "cell_type": "markdown",
      "metadata": {
        "id": "view-in-github",
        "colab_type": "text"
      },
      "source": [
        "<a href=\"https://colab.research.google.com/github/AnishNoel24/Mini-Project-18-Resize-the-Colored-Video-to-50-smaller-using-OpenCV/blob/main/Mini_Project_18_%22Resize_the_Colored_Video_to_50_(smaller)%22_using_OpenCV.ipynb\" target=\"_parent\"><img src=\"https://colab.research.google.com/assets/colab-badge.svg\" alt=\"Open In Colab\"/></a>"
      ]
    },
    {
      "cell_type": "code",
      "execution_count": 2,
      "metadata": {
        "colab": {
          "base_uri": "https://localhost:8080/"
        },
        "id": "ajmvtbG7cvU4",
        "outputId": "4f4fe8c9-9692-49d2-de30-f9a4e5349c2e"
      },
      "outputs": [
        {
          "output_type": "stream",
          "name": "stdout",
          "text": [
            "Downloaded: /content/DownloadVID/video.mp4\n",
            "Resized video: /content/ResizedVID/resized.mp4\n"
          ]
        }
      ],
      "source": [
        "import requests\n",
        "import cv2\n",
        "\n",
        "# Function to download a video from a URL\n",
        "def download_video(url, save_path):\n",
        "    response = requests.get(url, stream=True)\n",
        "    if response.status_code == 200:\n",
        "        with open(save_path, \"wb\") as file:\n",
        "            for chunk in response.iter_content(1024):\n",
        "                file.write(chunk)\n",
        "        print(f\"Downloaded: {save_path}\")\n",
        "    else:\n",
        "        print(f\"Failed to download: {url}\")\n",
        "\n",
        "# Function to resize a video to a specified scale\n",
        "def resize_video(video_path, save_path, scale_percent=50):\n",
        "    # Open the video file\n",
        "    video = cv2.VideoCapture(video_path)\n",
        "\n",
        "    # Get video properties\n",
        "    fps = video.get(cv2.CAP_PROP_FPS)\n",
        "    frame_width = int(video.get(cv2.CAP_PROP_FRAME_WIDTH))\n",
        "    frame_height = int(video.get(cv2.CAP_PROP_FRAME_HEIGHT))\n",
        "\n",
        "    # Calculate the new dimensions\n",
        "    new_width = int(frame_width * scale_percent / 100)\n",
        "    new_height = int(frame_height * scale_percent / 100)\n",
        "\n",
        "    # Create VideoWriter object to save the resized video\n",
        "    fourcc = cv2.VideoWriter_fourcc(*\"XVID\")\n",
        "    out = cv2.VideoWriter(save_path, fourcc, fps, (new_width, new_height))\n",
        "\n",
        "    # Process each frame and resize it\n",
        "    while True:\n",
        "        ret, frame = video.read()\n",
        "        if not ret:\n",
        "            break\n",
        "\n",
        "        resized_frame = cv2.resize(frame, (new_width, new_height))\n",
        "        out.write(resized_frame)\n",
        "\n",
        "    # Release resources\n",
        "    video.release()\n",
        "    out.release()\n",
        "    cv2.destroyAllWindows()\n",
        "    print(f\"Resized video: {save_path}\")\n",
        "\n",
        "# Example usage\n",
        "video_url = \"https://joy.videvo.net/videvo_files/video/premium/partners0075/large_watermarked/BB_3d6793e9-006d-4533-b075-2f6148f5f812_preview.mp4\"  # Replace with your video URL\n",
        "save_path = \"/content/ResizedVID/resized.mp4\"  # Replace with desired save path\n",
        "\n",
        "# Download the video\n",
        "download_video(video_url, \"/content/DownloadVID/video.mp4\")\n",
        "\n",
        "# Resize the video to 50%\n",
        "resize_video(\"/content/DownloadVID/video.mp4\", save_path, scale_percent=50)\n"
      ]
    },
    {
      "cell_type": "code",
      "source": [],
      "metadata": {
        "id": "8ZGUkubUdCbZ"
      },
      "execution_count": null,
      "outputs": []
    }
  ]
}